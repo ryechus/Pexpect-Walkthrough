{
 "cells": [
  {
   "cell_type": "markdown",
   "id": "e99f25fd",
   "metadata": {
    "slideshow": {
     "slide_type": "slide"
    }
   },
   "source": [
    "# Using Python to Communicate with CLI tools\n",
    "\n",
    "Written and Prepared by MJ Hardin for ChowNow Tech Talks \n",
    "\n",
    "Sep. 22, 2021"
   ]
  },
  {
   "cell_type": "markdown",
   "id": "ed7a9f96",
   "metadata": {
    "slideshow": {
     "slide_type": "slide"
    }
   },
   "source": [
    "## `subprocess` gets the job done most times."
   ]
  },
  {
   "cell_type": "markdown",
   "id": "a7d2a26a",
   "metadata": {
    "slideshow": {
     "slide_type": "slide"
    }
   },
   "source": [
    "You can use the `subprocess` library to simply launch other applications in the OS."
   ]
  },
  {
   "cell_type": "code",
   "execution_count": null,
   "id": "74a8f505",
   "metadata": {
    "slideshow": {
     "slide_type": "-"
    }
   },
   "outputs": [],
   "source": [
    "import subprocess\n",
    "\n",
    "from utils import print_lines\n",
    "\n",
    "subprocess.run(['open', '-a', 'Visual Studio Code', 'README.md'])"
   ]
  },
  {
   "cell_type": "markdown",
   "id": "3650cbb9",
   "metadata": {
    "slideshow": {
     "slide_type": "slide"
    }
   },
   "source": [
    "You can use the `subprocess` library to capture output from subprocesses and use it in your program."
   ]
  },
  {
   "cell_type": "code",
   "execution_count": null,
   "id": "70693c3c",
   "metadata": {
    "slideshow": {
     "slide_type": "fragment"
    }
   },
   "outputs": [],
   "source": [
    "proc = subprocess.run(['ls', '-l'], capture_output=True)\n",
    "\n",
    "# print_lines(proc.stdout.decode().splitlines())\n",
    "for l in proc.stdout.decode().splitlines():\n",
    "    if 'requirements.pkg' in l: \n",
    "        print('HAS REQUIREMENTS.TXT')"
   ]
  },
  {
   "cell_type": "markdown",
   "id": "974d182c",
   "metadata": {
    "slideshow": {
     "slide_type": "slide"
    }
   },
   "source": [
    "You can even use the `subprocess` library to send input to stdin!"
   ]
  },
  {
   "cell_type": "markdown",
   "id": "1bac5b89",
   "metadata": {
    "slideshow": {
     "slide_type": "fragment"
    }
   },
   "source": [
    "        # greet.py\n",
    "        def main():\n",
    "            name = input('What is your name?\\n')\n",
    "            print(f'Hi, {name}\\n')\n",
    "\n",
    "\n",
    "        if __name__ == '__main__':\n",
    "            main()\n"
   ]
  },
  {
   "cell_type": "code",
   "execution_count": null,
   "id": "ca24b6eb",
   "metadata": {
    "slideshow": {
     "slide_type": "-"
    }
   },
   "outputs": [],
   "source": [
    "proc = subprocess.Popen(['python', 'greet.py'], stdin=subprocess.PIPE, stdout=subprocess.PIPE)\n",
    "\n",
    "out, err = proc.communicate(input='MJ'.encode())\n",
    "\n",
    "print_lines(out.decode().splitlines())"
   ]
  },
  {
   "cell_type": "markdown",
   "id": "d26e3688",
   "metadata": {
    "slideshow": {
     "slide_type": "slide"
    }
   },
   "source": [
    "We reach the limits of the subprocess library cabilities when we need to communicate with a subprocess more than once like when using the `units` cli tool."
   ]
  },
  {
   "cell_type": "code",
   "execution_count": null,
   "id": "ea5ce3dd",
   "metadata": {
    "slideshow": {
     "slide_type": "fragment"
    }
   },
   "outputs": [],
   "source": [
    "proc = subprocess.Popen(['units'], stdin=subprocess.PIPE, stdout=subprocess.PIPE)\n",
    "\n",
    "out, err = proc.communicate(input='5 feet'.encode())\n",
    "\n",
    "print_lines(out.decode().splitlines())"
   ]
  },
  {
   "cell_type": "markdown",
   "id": "8de2f9f3",
   "metadata": {
    "slideshow": {
     "slide_type": "fragment"
    }
   },
   "source": [
    "We expected to be able to send input, receive output, and send input again to get 5 feet converted to yards.\n",
    "\n",
    "        $ units\n",
    "        586 units, 56 prefixes\n",
    "        You have: 5 feet\n",
    "        You want: yards\n",
    "            * 1.6666667\n",
    "            / 0.6"
   ]
  },
  {
   "cell_type": "markdown",
   "id": "6b96fa02",
   "metadata": {
    "slideshow": {
     "slide_type": "slide"
    }
   },
   "source": [
    "## `pexpect` to the rescue!"
   ]
  },
  {
   "cell_type": "markdown",
   "id": "369972ba",
   "metadata": {
    "slideshow": {
     "slide_type": "notes"
    }
   },
   "source": [
    "Pexpect makes it possible to write Python programs that launch subprocesses and communicate bidirectionally with those subprocesses."
   ]
  },
  {
   "cell_type": "markdown",
   "id": "cf2d5c4e",
   "metadata": {
    "slideshow": {
     "slide_type": "slide"
    }
   },
   "source": [
    "Let's convert units again!\n",
    "\n",
    "Using `pexpect` we are able to specify the input prompts that we expect from a spawned subprocess. Then, when those lines are encountered, we send the correct value to the program."
   ]
  },
  {
   "cell_type": "code",
   "execution_count": null,
   "id": "025cdf03",
   "metadata": {
    "slideshow": {
     "slide_type": "fragment"
    }
   },
   "outputs": [],
   "source": [
    "import pexpect\n",
    "\n",
    "proc = pexpect.spawn('units')\n",
    "\n",
    "# once a line that contains \"You have:\" is encountered stop\n",
    "proc.expect('You have:')\n",
    "# then send the units you'd like converted\n",
    "proc.sendline('5 feet')\n",
    "# then expect a line that contains \"You want:\"\n",
    "proc.expect('You want:')\n",
    "# once that line is encountered send the string \"yards\"\n",
    "proc.sendline('yards')\n",
    "# then expect \"You have:\" again so that we no to stop the program\n",
    "proc.expect('You have:')\n",
    "\n",
    "proc.close()    \n",
    "\n",
    "print_lines(proc.before.decode().splitlines())"
   ]
  },
  {
   "cell_type": "markdown",
   "id": "89cef546",
   "metadata": {
    "slideshow": {
     "slide_type": "slide"
    }
   },
   "source": [
    "## Let's get crazy!"
   ]
  },
  {
   "cell_type": "markdown",
   "id": "814a1f69",
   "metadata": {
    "slideshow": {
     "slide_type": "slide"
    }
   },
   "source": [
    "Let's look at a real-world ChowNow example: Two-factor authentication!\n",
    "\n",
    "Mulholland uses `pexpect` during a two-factor authentication process. Why? Because a CLI tool being used requires the user to enter the verification code _at the command line_!"
   ]
  },
  {
   "cell_type": "code",
   "execution_count": null,
   "id": "482c4aca",
   "metadata": {
    "slideshow": {
     "slide_type": "fragment"
    }
   },
   "outputs": [],
   "source": [
    "import sys\n",
    "\n",
    "import pexpect\n",
    "\n",
    "proc = pexpect.spawn('python log_replay.py 2fa-basic.json', encoding='utf-8')\n",
    "proc.logfile = sys.stdout\n",
    "\n",
    "index = proc.expect([\n",
    "            'Please enter the 6 digit code you received at.*:',\n",
    "            'Please enter the 6 digit code:',\n",
    "            pexpect.EOF])\n",
    "\n",
    "if index in (0, 1):\n",
    "    verfication_code = '123456'\n",
    "    proc.sendline(verfication_code)\n",
    "else:\n",
    "    print('Text not found')\n",
    "    \n",
    "proc.expect(pexpect.EOF)"
   ]
  },
  {
   "cell_type": "markdown",
   "id": "671de9e1",
   "metadata": {
    "slideshow": {
     "slide_type": "slide"
    }
   },
   "source": [
    "Expanding on this, we can even use `pexpect` to handle incorrect codes gracefully!"
   ]
  },
  {
   "cell_type": "code",
   "execution_count": null,
   "id": "5cae6960",
   "metadata": {
    "slideshow": {
     "slide_type": "fragment"
    }
   },
   "outputs": [],
   "source": [
    "import logging\n",
    "import sys\n",
    "\n",
    "import pexpect\n",
    "\n",
    "from utils import try_2fa_codes\n",
    "\n",
    "proc = pexpect.spawn('python log_replay.py 2fa-incorrect.json', encoding='utf-8')\n",
    "proc.logfile = sys.stdout\n",
    "\n",
    "\n",
    "index = proc.expect([\n",
    "            'Please enter the 6 digit code you received at.*:',\n",
    "            'Please enter the 6 digit code:',\n",
    "            pexpect.EOF])\n",
    "\n",
    "if index in (0, 1):\n",
    "    count = 1\n",
    "    if index in [0, 1]:\n",
    "        try_2fa_codes(proc, count=count)\n",
    "    elif count >= max_2fa_retries:\n",
    "        raise Exception(f'No valid verification code found for')\n",
    "else:\n",
    "    print('Text not found')"
   ]
  },
  {
   "cell_type": "markdown",
   "id": "e5f83105",
   "metadata": {
    "slideshow": {
     "slide_type": "slide"
    }
   },
   "source": [
    "# Recap & Additional Examples"
   ]
  },
  {
   "cell_type": "markdown",
   "id": "52a17d73",
   "metadata": {
    "slideshow": {
     "slide_type": "slide"
    }
   },
   "source": [
    "* Occaisionally, Python programs will need to launch subprocesses.\n",
    "* In some instances the program will need to interact with the subprocess indefinitely. \n",
    "* Python's stdlib `subprocess` package doesn't work for this. \n",
    "* `pexpect` is a python package that allows users to write Python programs that can interact with subprocesses.\n",
    "* Additional examples can be found here https://pexpect.readthedocs.io/en/stable/examples.html"
   ]
  },
  {
   "cell_type": "markdown",
   "id": "99d4b352",
   "metadata": {
    "slideshow": {
     "slide_type": "slide"
    }
   },
   "source": [
    "# Thanks for attending!"
   ]
  }
 ],
 "metadata": {
  "celltoolbar": "Slideshow",
  "kernelspec": {
   "display_name": "Python 3 (ipykernel)",
   "language": "python",
   "name": "python3"
  },
  "language_info": {
   "codemirror_mode": {
    "name": "ipython",
    "version": 3
   },
   "file_extension": ".py",
   "mimetype": "text/x-python",
   "name": "python",
   "nbconvert_exporter": "python",
   "pygments_lexer": "ipython3",
   "version": "3.9.1"
  },
  "rise": {
   "scroll": true
  }
 },
 "nbformat": 4,
 "nbformat_minor": 5
}
