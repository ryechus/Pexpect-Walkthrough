{
 "cells": [
  {
   "cell_type": "markdown",
   "id": "5632937f",
   "metadata": {
    "slideshow": {
     "slide_type": "slide"
    }
   },
   "source": [
    "# Using Python to Communicate with CLI tools"
   ]
  },
  {
   "cell_type": "markdown",
   "id": "bb593bbe",
   "metadata": {
    "slideshow": {
     "slide_type": "slide"
    }
   },
   "source": [
    "Python's `subprocess` library is excellent at launching subprocesses."
   ]
  },
  {
   "cell_type": "code",
   "execution_count": 10,
   "id": "5c72eff3",
   "metadata": {
    "slideshow": {
     "slide_type": "fragment"
    }
   },
   "outputs": [
    {
     "name": "stdout",
     "output_type": "stream",
     "text": [
      "total 24\n",
      "-rw-r--r--  1 mj.hardin  staff     0 Sep 21 09:47 README.md\n",
      "-rw-r--r--  1 mj.hardin  staff  2606 Sep 21 10:25 Untitled.ipynb\n",
      "-rw-r--r--  1 mj.hardin  staff    21 Sep 21 09:27 requirements.in\n",
      "-rw-r--r--  1 mj.hardin  staff  3541 Sep 21 09:27 requirements.txt\n"
     ]
    },
    {
     "data": {
      "text/plain": [
       "CompletedProcess(args=['ls', '-l'], returncode=0)"
      ]
     },
     "execution_count": 10,
     "metadata": {},
     "output_type": "execute_result"
    }
   ],
   "source": [
    "# Just running a command\n",
    "\n",
    "import subprocess\n",
    "\n",
    "subprocess.run(['ls', '-l'])"
   ]
  },
  {
   "cell_type": "code",
   "execution_count": 20,
   "id": "7533ec9d",
   "metadata": {},
   "outputs": [
    {
     "data": {
      "text/plain": [
       "['total 24',\n",
       " '-rw-r--r--  1 mj.hardin  staff     0 Sep 21 09:47 README.md',\n",
       " '-rw-r--r--  1 mj.hardin  staff  3391 Sep 21 10:27 Untitled.ipynb',\n",
       " '-rw-r--r--  1 mj.hardin  staff    21 Sep 21 09:27 requirements.in',\n",
       " '-rw-r--r--  1 mj.hardin  staff  3541 Sep 21 09:27 requirements.txt',\n",
       " '']"
      ]
     },
     "execution_count": 20,
     "metadata": {},
     "output_type": "execute_result"
    }
   ],
   "source": [
    "# Capturing output\n",
    "\n",
    "subp_out = subprocess.run(['ls', '-l'], capture_output=True)\n",
    "\n",
    "# print(output)\n",
    "subp_out.stdout.decode('utf-8').split('\\n')"
   ]
  },
  {
   "cell_type": "code",
   "execution_count": null,
   "id": "6ee9e565",
   "metadata": {},
   "outputs": [],
   "source": [
    "subprocess.Popen()"
   ]
  },
  {
   "cell_type": "markdown",
   "id": "f182e0a8",
   "metadata": {},
   "source": [
    "You can print output"
   ]
  },
  {
   "cell_type": "code",
   "execution_count": null,
   "id": "10c1ad33",
   "metadata": {},
   "outputs": [],
   "source": [
    "Inspect exit codes"
   ]
  },
  {
   "cell_type": "code",
   "execution_count": 7,
   "id": "23bc20eb",
   "metadata": {
    "slideshow": {
     "slide_type": "fragment"
    }
   },
   "outputs": [
    {
     "name": "stdout",
     "output_type": "stream",
     "text": [
      "foo\n"
     ]
    }
   ],
   "source": [
    "print('foo')"
   ]
  }
 ],
 "metadata": {
  "celltoolbar": "Slideshow",
  "kernelspec": {
   "display_name": "Python 3 (ipykernel)",
   "language": "python",
   "name": "python3"
  },
  "language_info": {
   "codemirror_mode": {
    "name": "ipython",
    "version": 3
   },
   "file_extension": ".py",
   "mimetype": "text/x-python",
   "name": "python",
   "nbconvert_exporter": "python",
   "pygments_lexer": "ipython3",
   "version": "3.9.1"
  }
 },
 "nbformat": 4,
 "nbformat_minor": 5
}
